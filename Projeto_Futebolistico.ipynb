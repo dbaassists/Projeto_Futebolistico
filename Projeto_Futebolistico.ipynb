{
 "cells": [
  {
   "cell_type": "code",
   "execution_count": 1,
   "id": "5ceaf0ca",
   "metadata": {},
   "outputs": [],
   "source": [
    "import pandas\n",
    "from pyspark.sql import SparkSession\n",
    "from pyspark.sql.functions import *\n",
    "from pyspark.sql.types import StructType, StructField, StringType\n",
    "spark = SparkSession.builder.appName(\"data-ingestion\").getOrCreate()"
   ]
  },
  {
   "cell_type": "code",
   "execution_count": 6,
   "id": "82a428fb",
   "metadata": {},
   "outputs": [
    {
     "name": "stderr",
     "output_type": "stream",
     "text": [
      "C:\\Users\\lacer\\AppData\\Roaming\\Python\\Python39\\site-packages\\pyspark\\sql\\pandas\\conversion.py:474: FutureWarning: iteritems is deprecated and will be removed in a future version. Use .items instead.\n",
      "  for column, series in pdf.iteritems():\n",
      "C:\\Users\\lacer\\AppData\\Roaming\\Python\\Python39\\site-packages\\pyspark\\sql\\pandas\\conversion.py:486: FutureWarning: iteritems is deprecated and will be removed in a future version. Use .items instead.\n",
      "  for column, series in pdf.iteritems():\n"
     ]
    }
   ],
   "source": [
    "customers = (\n",
    "    spark.createDataFrame(\n",
    "        pandas.read_csv(\"https://raw.githubusercontent.com/dbaassists/ModelagemDados/main/BaseDados_Copa_Catar_2022/catar2022_base_arbitragem.csv\"\n",
    "                        , encoding='latin-1'\n",
    "                        , sep=';')\n",
    "    )\n",
    ")"
   ]
  },
  {
   "cell_type": "code",
   "execution_count": 7,
   "id": "4398a053",
   "metadata": {},
   "outputs": [
    {
     "name": "stdout",
     "output_type": "stream",
     "text": [
      "+--------------------+--------------+-------------+\n",
      "|          NOMARBITRO|    TPOARBITRO|NOMPAISORIGEM|\n",
      "+--------------------+--------------+-------------+\n",
      "|AL JASSIM ABDULRA...|       ÁRBITRO|        CATAR|\n",
      "|       ALBERTO MORÍN|    ASSISTENTE|       MÉXICO|\n",
      "|ALESSANDRO GIALLA...|    ASSISTENTE|       ITÁLIA|\n",
      "|     ALIREZA FAGHANI|       ÁRBITRO|          IRÃ|\n",
      "|      ANDRAZ KOVACIC|    ASSISTENTE|    ESLOVÊNIA|\n",
      "|      ANDRÉS MATONTE|QUARTO ÁRBITRO|      URUGUAI|\n",
      "|     ANTON SCHETININ|    ASSISTENTE|    AUSTRÁLIA|\n",
      "|   ARSENIO MARINGULE|    ASSISTENTE|   MOÇAMBIQUE|\n",
      "|      ASHLEY BEECHAM|    ASSISTENTE|    AUSTRÁLIA|\n",
      "|     BRUNO BOSCHILIA|    ASSISTENTE|       BRASIL|\n",
      "| BRUNO RAPHAEL PIRES|    ASSISTENTE|       BRASIL|\n",
      "|         CÉSAR RAMOS|       ÁRBITRO|       MÉXICO|\n",
      "|         CHRIS BEATH|       ÁRBITRO|    AUSTRÁLIA|\n",
      "|        CIRO CARBONE|    ASSISTENTE|       ITÁLIA|\n",
      "|      CLÉMENT TURPIN|       ÁRBITRO|       FRANÇA|\n",
      "|        COREY PARKER|    ASSISTENTE|          EUA|\n",
      "|      CYRIL GRINGORE|    ASSISTENTE|       FRANÇA|\n",
      "|      DANIELE ORSATO|       ÁRBITRO|       ITÁLIA|\n",
      "|DANILO RICARDO SI...|    ASSISTENTE|       BRASIL|\n",
      "|DAVID JONATHAN MO...|    ASSISTENTE|   EL SAVADOR|\n",
      "+--------------------+--------------+-------------+\n",
      "only showing top 20 rows\n",
      "\n"
     ]
    }
   ],
   "source": [
    "customers.show()"
   ]
  },
  {
   "cell_type": "code",
   "execution_count": 9,
   "id": "cdebd027",
   "metadata": {},
   "outputs": [],
   "source": [
    "customers.write.format(\"csv\").mode(\"overwrite\").save(f\"../projeto/staging/arbitragem.csv\")"
   ]
  }
 ],
 "metadata": {
  "kernelspec": {
   "display_name": "Python 3 (ipykernel)",
   "language": "python",
   "name": "python3"
  },
  "language_info": {
   "codemirror_mode": {
    "name": "ipython",
    "version": 3
   },
   "file_extension": ".py",
   "mimetype": "text/x-python",
   "name": "python",
   "nbconvert_exporter": "python",
   "pygments_lexer": "ipython3",
   "version": "3.9.12"
  }
 },
 "nbformat": 4,
 "nbformat_minor": 5
}
